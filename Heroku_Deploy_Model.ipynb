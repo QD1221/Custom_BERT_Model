{
  "nbformat": 4,
  "nbformat_minor": 0,
  "metadata": {
    "colab": {
      "name": "Heroku Deploy Model.ipynb",
      "provenance": [],
      "authorship_tag": "ABX9TyP5InkzW4MlvdzDPBdz4XLR",
      "include_colab_link": true
    },
    "kernelspec": {
      "name": "python3",
      "display_name": "Python 3"
    },
    "language_info": {
      "name": "python"
    }
  },
  "cells": [
    {
      "cell_type": "markdown",
      "metadata": {
        "id": "view-in-github",
        "colab_type": "text"
      },
      "source": [
        "<a href=\"https://colab.research.google.com/github/QD1221/Custom_BERT_Model/blob/master/Heroku_Deploy_Model.ipynb\" target=\"_parent\"><img src=\"https://colab.research.google.com/assets/colab-badge.svg\" alt=\"Open In Colab\"/></a>"
      ]
    },
    {
      "cell_type": "code",
      "execution_count": null,
      "metadata": {
        "id": "Le6RwnaLC3Xr"
      },
      "outputs": [],
      "source": [
        "!pip install simpletransformers"
      ]
    },
    {
      "cell_type": "code",
      "source": [
        "import pickle"
      ],
      "metadata": {
        "id": "n7Q8n8t7C9oB"
      },
      "execution_count": 3,
      "outputs": []
    },
    {
      "cell_type": "code",
      "source": [
        "model = pickle.load(open('/content/drive/MyDrive/model2.pkl', 'rb'))"
      ],
      "metadata": {
        "colab": {
          "base_uri": "https://localhost:8080/",
          "height": 182
        },
        "id": "F2sKmuAGDAzo",
        "outputId": "154b69f5-1340-45e4-ef2c-78c1a7f17180"
      },
      "execution_count": 8,
      "outputs": [
        {
          "output_type": "error",
          "ename": "UnpicklingError",
          "evalue": "ignored",
          "traceback": [
            "\u001b[0;31m---------------------------------------------------------------------------\u001b[0m",
            "\u001b[0;31mUnpicklingError\u001b[0m                           Traceback (most recent call last)",
            "\u001b[0;32m<ipython-input-8-343a712a4133>\u001b[0m in \u001b[0;36m<module>\u001b[0;34m()\u001b[0m\n\u001b[1;32m      1\u001b[0m \u001b[0;32mfrom\u001b[0m \u001b[0murllib\u001b[0m\u001b[0;34m.\u001b[0m\u001b[0mrequest\u001b[0m \u001b[0;32mimport\u001b[0m \u001b[0murlopen\u001b[0m\u001b[0;34m\u001b[0m\u001b[0;34m\u001b[0m\u001b[0m\n\u001b[0;32m----> 2\u001b[0;31m \u001b[0mmodel\u001b[0m\u001b[0;34m=\u001b[0m \u001b[0mcp\u001b[0m\u001b[0;34m.\u001b[0m\u001b[0mload\u001b[0m\u001b[0;34m(\u001b[0m\u001b[0murlopen\u001b[0m\u001b[0;34m(\u001b[0m\u001b[0;34m\"https://drive.google.com/file/d/1IpNDA1Fv_VbYCFVA90ZrJ1ADdENkjZ2G\"\u001b[0m\u001b[0;34m)\u001b[0m\u001b[0;34m)\u001b[0m\u001b[0;34m\u001b[0m\u001b[0;34m\u001b[0m\u001b[0m\n\u001b[0m",
            "\u001b[0;31mUnpicklingError\u001b[0m: invalid load key, '<'."
          ]
        }
      ]
    },
    {
      "cell_type": "code",
      "source": [
        "!pip install -q jupyter-dash==0.3.0rc1 dash-bootstrap-components transformers"
      ],
      "metadata": {
        "id": "mZZZmcD7DHnF"
      },
      "execution_count": null,
      "outputs": []
    },
    {
      "cell_type": "code",
      "source": [
        "pip install dash==2.0.0"
      ],
      "metadata": {
        "id": "7OsWbmVHDJip"
      },
      "execution_count": null,
      "outputs": []
    },
    {
      "cell_type": "code",
      "source": [
        "import time\n",
        "import dash\n",
        "import dash_html_components as html\n",
        "import dash_core_components as dcc\n",
        "import dash_bootstrap_components as dbc\n",
        "from dash.dependencies import Input, Output, State\n",
        "from flask import Flask\n",
        "import os"
      ],
      "metadata": {
        "id": "Vtj4Opl1DLyQ"
      },
      "execution_count": null,
      "outputs": []
    },
    {
      "cell_type": "code",
      "source": [
        "server = Flask(__name__)\n",
        "server.secret_key = os.environ.get('secret_key', 'secret')\n",
        "app = dash.Dash(name = __name__, server = server)\n",
        "app.config.supress_callback_exceptions = True\n",
        "\n",
        "app.layout = html.Div([\n",
        "    html.H6(\"Thay đổi nội dung trong ô nhập dữ liệu để xem kết quả dự đoán!\"),\n",
        "    html.Div([\n",
        "        \"Đầu vào: \",\n",
        "        # dcc.Input(id='my-input', value='Đây là câu thử nghiệm', type='text')\n",
        "        dcc.Textarea(\n",
        "                     id='my-input',\n",
        "                     value='Đây là câu thử nghiệm',\n",
        "                     style={\n",
        "                           \"width\": \"100%\",\n",
        "                            \"height\": \"calc(75vh - 275px)\",\n",
        "                           },\n",
        "                    ),\n",
        "    ]),\n",
        "    html.Br(),\n",
        "    html.Button(id='submit-button-state', n_clicks=0, children='Dự đoán'),\n",
        "    html.Br(),\n",
        "    html.Br(),\n",
        "    html.Div(id='my-output'),\n",
        "\n",
        "])\n",
        "\n",
        "\n",
        "@app.callback(\n",
        "    Output(component_id='my-output', component_property='children'),\n",
        "    # Input(component_id='my-input', component_property='value')\n",
        "    Input('submit-button-state', 'n_clicks'),\n",
        "              State('my-input', 'value'),\n",
        ")\n",
        "def update_output_div(n_clicks, input_value):\n",
        "  \n",
        "    prediction, model_output = model.predict([input_value])\n",
        "    # return f\"Output: {prediction}\"\n",
        "\n",
        "    return u'''\n",
        "        Số lần dự đoán: {},\n",
        "\n",
        "        Đầu ra: \"{}\",\n",
        "    '''.format(n_clicks, prediction)\n",
        "\n"
      ],
      "metadata": {
        "id": "UaEK-NnvDMbJ"
      },
      "execution_count": null,
      "outputs": []
    }
  ]
}